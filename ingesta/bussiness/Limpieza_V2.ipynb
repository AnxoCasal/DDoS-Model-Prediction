{
 "cells": [
  {
   "cell_type": "code",
   "execution_count": 1,
   "metadata": {},
   "outputs": [],
   "source": [
    "import numpy as np\n",
    "import pandas as pd"
   ]
  },
  {
   "cell_type": "code",
   "execution_count": 2,
   "metadata": {},
   "outputs": [],
   "source": [
    "data = pd.read_csv(\"DDoS.csv\")"
   ]
  },
  {
   "cell_type": "code",
   "execution_count": 3,
   "metadata": {},
   "outputs": [
    {
     "name": "stdout",
     "output_type": "stream",
     "text": [
      "<class 'pandas.core.frame.DataFrame'>\n",
      "RangeIndex: 225745 entries, 0 to 225744\n",
      "Data columns (total 85 columns):\n",
      " #   Column                        Non-Null Count   Dtype  \n",
      "---  ------                        --------------   -----  \n",
      " 0   Flow ID                       225745 non-null  object \n",
      " 1    Source IP                    225745 non-null  object \n",
      " 2    Source Port                  225745 non-null  int64  \n",
      " 3    Destination IP               225745 non-null  object \n",
      " 4    Destination Port             225745 non-null  int64  \n",
      " 5    Protocol                     225745 non-null  int64  \n",
      " 6    Timestamp                    225745 non-null  object \n",
      " 7    Flow Duration                225745 non-null  int64  \n",
      " 8    Total Fwd Packets            225745 non-null  int64  \n",
      " 9    Total Backward Packets       225745 non-null  int64  \n",
      " 10  Total Length of Fwd Packets   225745 non-null  int64  \n",
      " 11   Total Length of Bwd Packets  225745 non-null  int64  \n",
      " 12   Fwd Packet Length Max        225745 non-null  int64  \n",
      " 13   Fwd Packet Length Min        225745 non-null  int64  \n",
      " 14   Fwd Packet Length Mean       225745 non-null  float64\n",
      " 15   Fwd Packet Length Std        225745 non-null  float64\n",
      " 16  Bwd Packet Length Max         225745 non-null  int64  \n",
      " 17   Bwd Packet Length Min        225745 non-null  int64  \n",
      " 18   Bwd Packet Length Mean       225745 non-null  float64\n",
      " 19   Bwd Packet Length Std        225745 non-null  float64\n",
      " 20  Flow Bytes/s                  225741 non-null  float64\n",
      " 21   Flow Packets/s               225745 non-null  float64\n",
      " 22   Flow IAT Mean                225745 non-null  float64\n",
      " 23   Flow IAT Std                 225745 non-null  float64\n",
      " 24   Flow IAT Max                 225745 non-null  int64  \n",
      " 25   Flow IAT Min                 225745 non-null  int64  \n",
      " 26  Fwd IAT Total                 225745 non-null  int64  \n",
      " 27   Fwd IAT Mean                 225745 non-null  float64\n",
      " 28   Fwd IAT Std                  225745 non-null  float64\n",
      " 29   Fwd IAT Max                  225745 non-null  int64  \n",
      " 30   Fwd IAT Min                  225745 non-null  int64  \n",
      " 31  Bwd IAT Total                 225745 non-null  int64  \n",
      " 32   Bwd IAT Mean                 225745 non-null  float64\n",
      " 33   Bwd IAT Std                  225745 non-null  float64\n",
      " 34   Bwd IAT Max                  225745 non-null  int64  \n",
      " 35   Bwd IAT Min                  225745 non-null  int64  \n",
      " 36  Fwd PSH Flags                 225745 non-null  int64  \n",
      " 37   Bwd PSH Flags                225745 non-null  int64  \n",
      " 38   Fwd URG Flags                225745 non-null  int64  \n",
      " 39   Bwd URG Flags                225745 non-null  int64  \n",
      " 40   Fwd Header Length            225745 non-null  int64  \n",
      " 41   Bwd Header Length            225745 non-null  int64  \n",
      " 42  Fwd Packets/s                 225745 non-null  float64\n",
      " 43   Bwd Packets/s                225745 non-null  float64\n",
      " 44   Min Packet Length            225745 non-null  int64  \n",
      " 45   Max Packet Length            225745 non-null  int64  \n",
      " 46   Packet Length Mean           225745 non-null  float64\n",
      " 47   Packet Length Std            225745 non-null  float64\n",
      " 48   Packet Length Variance       225745 non-null  float64\n",
      " 49  FIN Flag Count                225745 non-null  int64  \n",
      " 50   SYN Flag Count               225745 non-null  int64  \n",
      " 51   RST Flag Count               225745 non-null  int64  \n",
      " 52   PSH Flag Count               225745 non-null  int64  \n",
      " 53   ACK Flag Count               225745 non-null  int64  \n",
      " 54   URG Flag Count               225745 non-null  int64  \n",
      " 55   CWE Flag Count               225745 non-null  int64  \n",
      " 56   ECE Flag Count               225745 non-null  int64  \n",
      " 57   Down/Up Ratio                225745 non-null  int64  \n",
      " 58   Average Packet Size          225745 non-null  float64\n",
      " 59   Avg Fwd Segment Size         225745 non-null  float64\n",
      " 60   Avg Bwd Segment Size         225745 non-null  float64\n",
      " 61   Fwd Header Length.1          225745 non-null  int64  \n",
      " 62  Fwd Avg Bytes/Bulk            225745 non-null  int64  \n",
      " 63   Fwd Avg Packets/Bulk         225745 non-null  int64  \n",
      " 64   Fwd Avg Bulk Rate            225745 non-null  int64  \n",
      " 65   Bwd Avg Bytes/Bulk           225745 non-null  int64  \n",
      " 66   Bwd Avg Packets/Bulk         225745 non-null  int64  \n",
      " 67  Bwd Avg Bulk Rate             225745 non-null  int64  \n",
      " 68  Subflow Fwd Packets           225745 non-null  int64  \n",
      " 69   Subflow Fwd Bytes            225745 non-null  int64  \n",
      " 70   Subflow Bwd Packets          225745 non-null  int64  \n",
      " 71   Subflow Bwd Bytes            225745 non-null  int64  \n",
      " 72  Init_Win_bytes_forward        225745 non-null  int64  \n",
      " 73   Init_Win_bytes_backward      225745 non-null  int64  \n",
      " 74   act_data_pkt_fwd             225745 non-null  int64  \n",
      " 75   min_seg_size_forward         225745 non-null  int64  \n",
      " 76  Active Mean                   225745 non-null  float64\n",
      " 77   Active Std                   225745 non-null  float64\n",
      " 78   Active Max                   225745 non-null  int64  \n",
      " 79   Active Min                   225745 non-null  int64  \n",
      " 80  Idle Mean                     225745 non-null  float64\n",
      " 81   Idle Std                     225745 non-null  float64\n",
      " 82   Idle Max                     225745 non-null  int64  \n",
      " 83   Idle Min                     225745 non-null  int64  \n",
      " 84   Label                        225745 non-null  object \n",
      "dtypes: float64(24), int64(56), object(5)\n",
      "memory usage: 146.4+ MB\n"
     ]
    }
   ],
   "source": [
    "data.info()"
   ]
  },
  {
   "cell_type": "code",
   "execution_count": 4,
   "metadata": {},
   "outputs": [],
   "source": [
    "def ip_col_classiffication(df, colum):\n",
    "    calsif = []\n",
    "    for i in range(len(df[colum])):\n",
    "\n",
    "        nums = data[colum][i].split(\".\")\n",
    "        nums = [int(num) for num in nums]\n",
    "\n",
    "        if nums[0] == 172 and nums[1] >= 16 and nums[1] <= 31:\n",
    "            calsif.append(1)\n",
    "        elif nums[0] == 192 and nums[1] == 168:\n",
    "            calsif.append(1)\n",
    "        else:\n",
    "            calsif.append(0)\n",
    "        \n",
    "    df[colum] = calsif\n",
    "    return df"
   ]
  },
  {
   "cell_type": "code",
   "execution_count": 5,
   "metadata": {},
   "outputs": [],
   "source": [
    "data = ip_col_classiffication(data, \" Source IP\")\n",
    "data = ip_col_classiffication(data, \" Destination IP\")"
   ]
  },
  {
   "cell_type": "code",
   "execution_count": 6,
   "metadata": {},
   "outputs": [
    {
     "data": {
      "text/plain": [
       " Source IP\n",
       "1    217082\n",
       "0      8663\n",
       "Name: count, dtype: int64"
      ]
     },
     "execution_count": 6,
     "metadata": {},
     "output_type": "execute_result"
    }
   ],
   "source": [
    "data[\" Source IP\"].value_counts()"
   ]
  },
  {
   "cell_type": "code",
   "execution_count": 7,
   "metadata": {},
   "outputs": [
    {
     "data": {
      "text/plain": [
       " Destination IP\n",
       "1    202455\n",
       "0     23290\n",
       "Name: count, dtype: int64"
      ]
     },
     "execution_count": 7,
     "metadata": {},
     "output_type": "execute_result"
    }
   ],
   "source": [
    "data[\" Destination IP\"].value_counts()"
   ]
  },
  {
   "cell_type": "code",
   "execution_count": 8,
   "metadata": {},
   "outputs": [
    {
     "name": "stderr",
     "output_type": "stream",
     "text": [
      "c:\\Users\\acasalro\\AppData\\Local\\miniconda3\\envs\\ia\\Lib\\site-packages\\sklearn\\preprocessing\\_encoders.py:972: FutureWarning: `sparse` was renamed to `sparse_output` in version 1.2 and will be removed in 1.4. `sparse_output` is ignored unless you leave `sparse` to its default value.\n",
      "  warnings.warn(\n"
     ]
    }
   ],
   "source": [
    "from sklearn.preprocessing import OneHotEncoder\n",
    "\n",
    "ohe = OneHotEncoder(sparse=False, drop='first')\n",
    "    \n",
    "data[\" Label\"] = ohe.fit_transform(data[[\" Label\"]])"
   ]
  },
  {
   "cell_type": "code",
   "execution_count": 9,
   "metadata": {},
   "outputs": [],
   "source": [
    "data = data.select_dtypes(exclude=['object'])"
   ]
  },
  {
   "cell_type": "code",
   "execution_count": 10,
   "metadata": {},
   "outputs": [],
   "source": [
    "correlaciones = data.corr()"
   ]
  },
  {
   "cell_type": "code",
   "execution_count": 11,
   "metadata": {},
   "outputs": [],
   "source": [
    "label_cor = correlaciones[\" Label\"]\n",
    "label_cor = pd.DataFrame(label_cor)\n",
    "\n",
    "lower_bound = -0.15\n",
    "upper_bound = 0.15\n",
    "\n",
    "filtered_df = label_cor[(label_cor[' Label'] < lower_bound) | (label_cor[' Label'] > upper_bound)]\n",
    "\n",
    "filtered_df = filtered_df[\" Label\"].reset_index()"
   ]
  },
  {
   "cell_type": "code",
   "execution_count": 12,
   "metadata": {},
   "outputs": [],
   "source": [
    "final = pd.DataFrame()\n",
    "\n",
    "for val in filtered_df[\"index\"]:\n",
    "    final[val] = data[val]"
   ]
  },
  {
   "cell_type": "code",
   "execution_count": 13,
   "metadata": {},
   "outputs": [],
   "source": [
    "final.to_csv('Clean_DDoS.csv', index=False)"
   ]
  }
 ],
 "metadata": {
  "kernelspec": {
   "display_name": "ia",
   "language": "python",
   "name": "python3"
  },
  "language_info": {
   "codemirror_mode": {
    "name": "ipython",
    "version": 3
   },
   "file_extension": ".py",
   "mimetype": "text/x-python",
   "name": "python",
   "nbconvert_exporter": "python",
   "pygments_lexer": "ipython3",
   "version": "3.12.2"
  }
 },
 "nbformat": 4,
 "nbformat_minor": 2
}
