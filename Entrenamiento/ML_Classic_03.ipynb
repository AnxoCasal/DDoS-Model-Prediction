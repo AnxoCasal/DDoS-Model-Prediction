{
 "cells": [
  {
   "cell_type": "code",
   "execution_count": 7,
   "metadata": {},
   "outputs": [],
   "source": [
    "import pandas as pd\n",
    "from training import DataPreprocessing\n",
    "from sklearn.neighbors import KNeighborsClassifier\n",
    "import numpy as np\n",
    "from sklearn.metrics import accuracy_score, classification_report\n",
    "from sklearn.linear_model import LogisticRegression"
   ]
  },
  {
   "cell_type": "code",
   "execution_count": 8,
   "metadata": {},
   "outputs": [],
   "source": [
    "df = pd.read_parquet(\"training_set.parquet\")"
   ]
  },
  {
   "cell_type": "code",
   "execution_count": 9,
   "metadata": {},
   "outputs": [],
   "source": [
    "training_set, test_set = DataPreprocessing.stratified_split_dataframe(df, \"Label_Index\")\n",
    "\n",
    "X_train = training_set.drop(\"Label_Index\", axis=1)  \n",
    "y_train = training_set[\"Label_Index\"]\n",
    "\n",
    "X_test = test_set.drop(\"Label_Index\", axis=1)\n",
    "y_test = test_set[\"Label_Index\"]"
   ]
  },
  {
   "cell_type": "code",
   "execution_count": 10,
   "metadata": {},
   "outputs": [],
   "source": [
    "clf = LogisticRegression(multi_class='multinomial', solver='lbfgs', max_iter=1000)"
   ]
  },
  {
   "cell_type": "code",
   "execution_count": 11,
   "metadata": {},
   "outputs": [
    {
     "name": "stderr",
     "output_type": "stream",
     "text": [
      "c:\\Users\\acasalro\\AppData\\Local\\miniconda3\\envs\\ia\\Lib\\site-packages\\sklearn\\linear_model\\_logistic.py:460: ConvergenceWarning: lbfgs failed to converge (status=1):\n",
      "STOP: TOTAL NO. of ITERATIONS REACHED LIMIT.\n",
      "\n",
      "Increase the number of iterations (max_iter) or scale the data as shown in:\n",
      "    https://scikit-learn.org/stable/modules/preprocessing.html\n",
      "Please also refer to the documentation for alternative solver options:\n",
      "    https://scikit-learn.org/stable/modules/linear_model.html#logistic-regression\n",
      "  n_iter_i = _check_optimize_result(\n"
     ]
    }
   ],
   "source": [
    "clf.fit(X_train, y_train)\n",
    "\n",
    "y_pred = clf.predict(X_test)"
   ]
  },
  {
   "cell_type": "code",
   "execution_count": 12,
   "metadata": {},
   "outputs": [
    {
     "name": "stdout",
     "output_type": "stream",
     "text": [
      "              precision    recall  f1-score   support\n",
      "\n",
      "           0       0.59      0.87      0.70      8585\n",
      "           1       0.65      0.25      0.36      8550\n",
      "           2       0.58      0.86      0.69      8544\n",
      "           3       0.92      0.90      0.91      8541\n",
      "           4       0.23      0.06      0.10      8531\n",
      "           5       0.42      0.32      0.36      8531\n",
      "           6       0.45      0.57      0.50      8528\n",
      "           7       0.93      0.50      0.65      8525\n",
      "           8       0.47      0.61      0.53      8485\n",
      "           9       0.51      0.74      0.60      8481\n",
      "          10       0.92      0.98      0.95      8480\n",
      "          11       1.00      1.00      1.00      8285\n",
      "\n",
      "    accuracy                           0.64    102066\n",
      "   macro avg       0.64      0.64      0.61    102066\n",
      "weighted avg       0.64      0.64      0.61    102066\n",
      "\n"
     ]
    }
   ],
   "source": [
    "print(classification_report(y_test, y_pred))"
   ]
  }
 ],
 "metadata": {
  "kernelspec": {
   "display_name": "ia",
   "language": "python",
   "name": "python3"
  },
  "language_info": {
   "codemirror_mode": {
    "name": "ipython",
    "version": 3
   },
   "file_extension": ".py",
   "mimetype": "text/x-python",
   "name": "python",
   "nbconvert_exporter": "python",
   "pygments_lexer": "ipython3",
   "version": "3.12.2"
  }
 },
 "nbformat": 4,
 "nbformat_minor": 2
}
