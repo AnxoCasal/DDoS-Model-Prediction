{
 "cells": [
  {
   "cell_type": "code",
   "execution_count": 1,
   "metadata": {},
   "outputs": [],
   "source": [
    "import pandas as pd\n",
    "import numpy as np\n",
    "import matplotlib.pyplot as plt\n",
    "import seaborn as sns\n",
    "from training import DataPreprocessing"
   ]
  },
  {
   "cell_type": "code",
   "execution_count": 2,
   "metadata": {},
   "outputs": [
    {
     "name": "stderr",
     "output_type": "stream",
     "text": [
      "<>:1: SyntaxWarning: invalid escape sequence '\\A'\n",
      "<>:1: SyntaxWarning: invalid escape sequence '\\A'\n",
      "C:\\Users\\acasalro\\AppData\\Local\\Temp\\ipykernel_1376\\2031116898.py:1: SyntaxWarning: invalid escape sequence '\\A'\n",
      "  df = pd.read_parquet(\"..\\Archivos\\\\business\\part-00000-be1f27a4-9044-46ac-a33d-4189b2080bdb-c000.snappy.parquet\")\n"
     ]
    }
   ],
   "source": [
    "df = pd.read_parquet(\"..\\Archivos\\\\business\\part-00000-be1f27a4-9044-46ac-a33d-4189b2080bdb-c000.snappy.parquet\")"
   ]
  },
  {
   "cell_type": "code",
   "execution_count": 3,
   "metadata": {},
   "outputs": [],
   "source": [
    "df = DataPreprocessing.apply_scaler(df, [\"Label_Index\", \"Source Port\", \"Destination Port\"])"
   ]
  },
  {
   "cell_type": "code",
   "execution_count": 4,
   "metadata": {},
   "outputs": [],
   "source": [
    "df = DataPreprocessing.apply_lda(df,\"Label_Index\",4)"
   ]
  },
  {
   "cell_type": "code",
   "execution_count": null,
   "metadata": {},
   "outputs": [],
   "source": [
    "numeric_columns = df.columns\n",
    "\n",
    "cols_per_row = 3\n",
    "\n",
    "for i in range(0, len(numeric_columns), cols_per_row):\n",
    "    fig, axes = plt.subplots(1, cols_per_row, figsize=(18, 5))\n",
    "    for j in range(cols_per_row):\n",
    "        if i + j < len(numeric_columns):\n",
    "            ax = axes[j]\n",
    "            df[numeric_columns[i + j]].plot(kind='hist', ax=ax, title=numeric_columns[i + j], bins=20)\n",
    "        else:\n",
    "            fig.delaxes(axes[j])\n",
    "    plt.tight_layout()\n",
    "    plt.show()"
   ]
  }
 ],
 "metadata": {
  "kernelspec": {
   "display_name": "ia",
   "language": "python",
   "name": "python3"
  },
  "language_info": {
   "codemirror_mode": {
    "name": "ipython",
    "version": 3
   },
   "file_extension": ".py",
   "mimetype": "text/x-python",
   "name": "python",
   "nbconvert_exporter": "python",
   "pygments_lexer": "ipython3",
   "version": "3.12.2"
  }
 },
 "nbformat": 4,
 "nbformat_minor": 2
}
