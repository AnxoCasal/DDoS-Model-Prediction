{
 "cells": [
  {
   "cell_type": "code",
   "execution_count": 1,
   "metadata": {},
   "outputs": [],
   "source": [
    "import torch\n",
    "import pandas as pd\n",
    "import torch.nn as nn\n",
    "import torch.optim as optim\n",
    "from sklearn.model_selection import StratifiedKFold\n",
    "import torch.optim as optim\n",
    "import numpy as np\n",
    "from sklearn.model_selection import train_test_split\n",
    "from torch.utils.data import DataLoader, TensorDataset"
   ]
  },
  {
   "cell_type": "code",
   "execution_count": null,
   "metadata": {},
   "outputs": [],
   "source": [
    "class SimpleNN(nn.Module):\n",
    "   def __init__(self):\n",
    "      super(SimpleNN, self).__init__()\n",
    "      self.fc1 = nn.Linear(4, 32)\n",
    "      self.fc2 = nn.Linear(32, 64)\n",
    "      self.fc3 = nn.Linear(64, 128)\n",
    "      self.fc4 = nn.Linear(128, 64)\n",
    "      self.fc5 = nn.Linear(64, 12)\n",
    "\n",
    "      self.flat = nn.Flatten()\n",
    "      self.relu = nn.LeakyReLU(negative_slope=0.01)\n",
    "\n",
    "   def forward(self, x):\n",
    "        x = self.relu(self.fc1(x))\n",
    "        x = self.relu(self.fc2(x))\n",
    "        x = self.relu(self.fc3(x))\n",
    "        x = self.relu(self.fc4(x))\n",
    "        x = self.fc5(x)\n",
    "        return x"
   ]
  },
  {
   "cell_type": "code",
   "execution_count": null,
   "metadata": {},
   "outputs": [],
   "source": [
    "class SimpleNN(nn.Module):\n",
    "   def __init__(self):\n",
    "      super(SimpleNN, self).__init__()\n",
    "      self.fc1 = nn.Linear(4, 32)\n",
    "      self.fc2 = nn.Linear(32, 64)\n",
    "      self.fc3 = nn.Linear(64, 128)\n",
    "      self.fc4 = nn.Linear(128, 64)\n",
    "      self.fc5 = nn.Linear(64, 12)\n",
    "\n",
    "      self.flat = nn.Flatten()\n",
    "      self.relu = nn.ELU()\n",
    "\n",
    "   def forward(self, x):\n",
    "        x = self.relu(self.fc1(x))\n",
    "        x = self.relu(self.fc2(x))\n",
    "        x = self.relu(self.fc3(x))\n",
    "        x = self.relu(self.fc4(x))\n",
    "        x = self.fc5(x)\n",
    "        return x"
   ]
  },
  {
   "cell_type": "code",
   "execution_count": null,
   "metadata": {},
   "outputs": [],
   "source": [
    "class SimpleNN(nn.Module):\n",
    "   def __init__(self):\n",
    "      super(SimpleNN, self).__init__()\n",
    "      self.fc1 = nn.Linear(4, 32)\n",
    "      self.fc2 = nn.Linear(32, 64)\n",
    "      self.fc3 = nn.Linear(64, 128)\n",
    "      self.fc4 = nn.Linear(128, 256)\n",
    "      self.fc5 = nn.Linear(256, 128)\n",
    "      self.fc6 = nn.Linear(128, 64)\n",
    "      self.fc7 = nn.Linear(64, 12)\n",
    "\n",
    "      self.flat = nn.Flatten()\n",
    "      self.relu = nn.ReLU()\n",
    "\n",
    "   def forward(self, x):\n",
    "        x = self.relu(self.fc1(x))\n",
    "        x = self.relu(self.fc2(x))\n",
    "        x = self.relu(self.fc3(x))\n",
    "        x = self.relu(self.fc4(x))\n",
    "        x = self.relu(self.fc5(x))\n",
    "        x = self.relu(self.fc6(x))\n",
    "        x = self.fc7(x)\n",
    "        return x"
   ]
  },
  {
   "cell_type": "code",
   "execution_count": null,
   "metadata": {},
   "outputs": [],
   "source": [
    "class SimpleNN(nn.Module):\n",
    "   def __init__(self):\n",
    "      super(SimpleNN, self).__init__()\n",
    "      self.fc1 = nn.Linear(4, 32)\n",
    "      self.fc2 = nn.Linear(32, 64)\n",
    "      self.fc3 = nn.Linear(64, 128)\n",
    "      self.fc4 = nn.Linear(128, 256)\n",
    "      self.fc5 = nn.Linear(256, 512)\n",
    "      self.fc6 = nn.Linear(512, 256)\n",
    "      self.fc7 = nn.Linear(256, 128)\n",
    "      self.fc8 = nn.Linear(128, 64)\n",
    "      self.fc9 = nn.Linear(64, 12)\n",
    "\n",
    "      self.flat = nn.Flatten()\n",
    "      self.relu = nn.ELU()\n",
    "\n",
    "   def forward(self, x):\n",
    "        x = self.relu(self.fc1(x))\n",
    "        x = self.relu(self.fc2(x))\n",
    "        x = self.relu(self.fc3(x))\n",
    "        x = self.relu(self.fc4(x))\n",
    "        x = self.relu(self.fc5(x))\n",
    "        x = self.relu(self.fc6(x))\n",
    "        x = self.relu(self.fc7(x))\n",
    "        x = self.relu(self.fc8(x))\n",
    "        x = self.fc9(x)\n",
    "        return x"
   ]
  }
 ],
 "metadata": {
  "kernelspec": {
   "display_name": "ia",
   "language": "python",
   "name": "python3"
  },
  "language_info": {
   "codemirror_mode": {
    "name": "ipython",
    "version": 3
   },
   "file_extension": ".py",
   "mimetype": "text/x-python",
   "name": "python",
   "nbconvert_exporter": "python",
   "pygments_lexer": "ipython3",
   "version": "3.12.2"
  }
 },
 "nbformat": 4,
 "nbformat_minor": 2
}
