{
 "cells": [
  {
   "cell_type": "code",
   "execution_count": 1,
   "metadata": {},
   "outputs": [],
   "source": [
    "import pandas as pd\n",
    "from training import DataPreprocessing\n",
    "from sklearn.neighbors import KNeighborsClassifier\n",
    "from sklearn.metrics import classification_report"
   ]
  },
  {
   "cell_type": "code",
   "execution_count": 2,
   "metadata": {},
   "outputs": [],
   "source": [
    "df = pd.read_parquet(\"training_set.parquet\")"
   ]
  },
  {
   "cell_type": "code",
   "execution_count": 3,
   "metadata": {},
   "outputs": [],
   "source": [
    "training_set, test_set = DataPreprocessing.stratified_split_dataframe(df, \"Label_Index\")\n",
    "\n",
    "X_train = training_set.drop(\"Label_Index\", axis=1)  \n",
    "y_train = training_set[\"Label_Index\"]\n",
    "\n",
    "X_test = test_set.drop(\"Label_Index\", axis=1)\n",
    "y_test = test_set[\"Label_Index\"]"
   ]
  },
  {
   "cell_type": "code",
   "execution_count": 5,
   "metadata": {},
   "outputs": [],
   "source": [
    "knn = KNeighborsClassifier(n_neighbors=12)"
   ]
  },
  {
   "cell_type": "code",
   "execution_count": 6,
   "metadata": {},
   "outputs": [],
   "source": [
    "knn.fit(X_train, y_train)\n",
    "\n",
    "y_pred = knn.predict(X_test)"
   ]
  },
  {
   "cell_type": "code",
   "execution_count": 7,
   "metadata": {},
   "outputs": [
    {
     "name": "stdout",
     "output_type": "stream",
     "text": [
      "              precision    recall  f1-score   support\n",
      "\n",
      "           0       0.59      0.93      0.72      8585\n",
      "           1       0.69      0.23      0.35      8550\n",
      "           2       0.92      0.95      0.94      8544\n",
      "           3       0.99      1.00      0.99      8541\n",
      "           4       0.59      0.67      0.63      8531\n",
      "           5       0.48      0.59      0.53      8531\n",
      "           6       0.51      0.51      0.51      8528\n",
      "           7       1.00      0.99      0.99      8525\n",
      "           8       0.49      0.41      0.45      8485\n",
      "           9       0.73      0.61      0.66      8481\n",
      "          10       0.96      0.98      0.97      8480\n",
      "          11       1.00      1.00      1.00      8285\n",
      "\n",
      "    accuracy                           0.74    102066\n",
      "   macro avg       0.75      0.74      0.73    102066\n",
      "weighted avg       0.74      0.74      0.73    102066\n",
      "\n"
     ]
    }
   ],
   "source": [
    "print(classification_report(y_test, y_pred))"
   ]
  }
 ],
 "metadata": {
  "kernelspec": {
   "display_name": "ia",
   "language": "python",
   "name": "python3"
  },
  "language_info": {
   "codemirror_mode": {
    "name": "ipython",
    "version": 3
   },
   "file_extension": ".py",
   "mimetype": "text/x-python",
   "name": "python",
   "nbconvert_exporter": "python",
   "pygments_lexer": "ipython3",
   "version": "3.12.2"
  }
 },
 "nbformat": 4,
 "nbformat_minor": 2
}
