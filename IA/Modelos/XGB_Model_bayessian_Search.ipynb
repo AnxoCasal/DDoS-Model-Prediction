{
 "cells": [
  {
   "cell_type": "code",
   "execution_count": 1,
   "metadata": {},
   "outputs": [],
   "source": [
    "import pandas as pd\n",
    "from training import DataPreprocessing\n",
    "import xgboost as xgb\n",
    "from xgboost import XGBClassifier\n",
    "from sklearn.metrics import classification_report\n",
    "from sklearn.model_selection import cross_val_score\n",
    "import optuna"
   ]
  },
  {
   "cell_type": "code",
   "execution_count": 2,
   "metadata": {},
   "outputs": [],
   "source": [
    "df = pd.read_parquet(\"..\\\\training_set.parquet\")"
   ]
  },
  {
   "cell_type": "code",
   "execution_count": 3,
   "metadata": {},
   "outputs": [],
   "source": [
    "training_set, test_set = DataPreprocessing.stratified_split_dataframe(df, \"Label_Index\")\n",
    "\n",
    "X_train = training_set.drop(\"Label_Index\", axis=1)  \n",
    "y_train = training_set[\"Label_Index\"]\n",
    "\n",
    "X_test = test_set.drop(\"Label_Index\", axis=1)\n",
    "y_test = test_set[\"Label_Index\"]"
   ]
  },
  {
   "cell_type": "code",
   "execution_count": 4,
   "metadata": {},
   "outputs": [
    {
     "name": "stderr",
     "output_type": "stream",
     "text": [
      "[I 2024-06-17 14:29:16,297] A new study created in memory with name: no-name-f6b7ff90-4b7d-4c11-9c58-750d60d896ed\n",
      "[I 2024-06-17 14:33:46,212] Trial 0 finished with value: 0.8831896679404011 and parameters: {'learning_rate': 0.23962854155043442, 'max_depth': 8, 'min_child_weight': 7, 'subsample': 0.6142975198934528, 'colsample_bytree': 0.8348945145303123, 'n_estimators': 211}. Best is trial 0 with value: 0.8831896679404011.\n",
      "[I 2024-06-17 14:35:05,155] Trial 1 finished with value: 0.8818566900678338 and parameters: {'learning_rate': 0.07548745556538515, 'max_depth': 8, 'min_child_weight': 6, 'subsample': 0.7022944161450949, 'colsample_bytree': 0.7363616921633958, 'n_estimators': 55}. Best is trial 0 with value: 0.8831896679404011.\n",
      "[I 2024-06-17 14:38:46,914] Trial 2 finished with value: 0.8830978405758465 and parameters: {'learning_rate': 0.11681380235412828, 'max_depth': 6, 'min_child_weight': 5, 'subsample': 0.8121795255624243, 'colsample_bytree': 0.7980314171628878, 'n_estimators': 190}. Best is trial 0 with value: 0.8831896679404011.\n",
      "[I 2024-06-17 14:42:39,125] Trial 3 finished with value: 0.8831600462098996 and parameters: {'learning_rate': 0.1321081918900373, 'max_depth': 6, 'min_child_weight': 3, 'subsample': 0.7502575960969208, 'colsample_bytree': 0.7236353598968314, 'n_estimators': 202}. Best is trial 0 with value: 0.8831896679404011.\n",
      "[I 2024-06-17 14:52:19,474] Trial 4 finished with value: 0.8831600462098996 and parameters: {'learning_rate': 0.08324981069731298, 'max_depth': 9, 'min_child_weight': 3, 'subsample': 0.8685758354183639, 'colsample_bytree': 0.7671608298403089, 'n_estimators': 380}. Best is trial 0 with value: 0.8831896679404011.\n",
      "[I 2024-06-17 14:57:54,333] Trial 5 finished with value: 0.8831570840368493 and parameters: {'learning_rate': 0.26175643705152857, 'max_depth': 8, 'min_child_weight': 4, 'subsample': 0.7171696129963614, 'colsample_bytree': 0.9110350210774317, 'n_estimators': 229}. Best is trial 0 with value: 0.8831896679404011.\n",
      "[I 2024-06-17 15:01:55,072] Trial 6 finished with value: 0.8831748570751503 and parameters: {'learning_rate': 0.2715709424148534, 'max_depth': 7, 'min_child_weight': 2, 'subsample': 0.7594263911217434, 'colsample_bytree': 0.8769236910967233, 'n_estimators': 183}. Best is trial 0 with value: 0.8831896679404011.\n",
      "[I 2024-06-17 15:03:14,689] Trial 7 finished with value: 0.8817411653188779 and parameters: {'learning_rate': 0.1311644744927836, 'max_depth': 6, 'min_child_weight': 4, 'subsample': 0.7331484237939004, 'colsample_bytree': 0.8995759379598163, 'n_estimators': 54}. Best is trial 0 with value: 0.8831896679404011.\n",
      "[I 2024-06-17 15:20:15,710] Trial 8 finished with value: 0.8831778192482004 and parameters: {'learning_rate': 0.2617361115084004, 'max_depth': 5, 'min_child_weight': 6, 'subsample': 0.9963008087647848, 'colsample_bytree': 0.6762269721438745, 'n_estimators': 348}. Best is trial 0 with value: 0.8831896679404011.\n",
      "[I 2024-06-17 15:21:48,467] Trial 9 finished with value: 0.882357297313309 and parameters: {'learning_rate': 0.04983956326963782, 'max_depth': 9, 'min_child_weight': 4, 'subsample': 0.7190133736229338, 'colsample_bytree': 0.909213987607313, 'n_estimators': 76}. Best is trial 0 with value: 0.8831896679404011.\n",
      "[I 2024-06-17 15:25:00,185] Trial 10 finished with value: 0.8823721081785599 and parameters: {'learning_rate': 0.20502351672517571, 'max_depth': 3, 'min_child_weight': 7, 'subsample': 0.604124627592452, 'colsample_bytree': 0.9929570001557957, 'n_estimators': 286}. Best is trial 0 with value: 0.8831896679404011.\n",
      "[I 2024-06-17 16:09:16,283] Trial 11 finished with value: 0.8830622944992447 and parameters: {'learning_rate': 0.20764663931278982, 'max_depth': 4, 'min_child_weight': 7, 'subsample': 0.9763527308650473, 'colsample_bytree': 0.6096924319849361, 'n_estimators': 397}. Best is trial 0 with value: 0.8831896679404011.\n"
     ]
    },
    {
     "name": "stdout",
     "output_type": "stream",
     "text": [
      "Mejores parámetros: {'learning_rate': 0.23962854155043442, 'max_depth': 8, 'min_child_weight': 7, 'subsample': 0.6142975198934528, 'colsample_bytree': 0.8348945145303123, 'n_estimators': 211}\n",
      "Mejor score: 0.8831896679404011\n"
     ]
    }
   ],
   "source": [
    "def objective(trial):\n",
    "    params = {\n",
    "        'learning_rate': trial.suggest_float('learning_rate', 0.01, 0.3),\n",
    "        'max_depth': trial.suggest_int('max_depth', 3, 9),\n",
    "        'min_child_weight': trial.suggest_int('min_child_weight', 1, 7),\n",
    "        'subsample': trial.suggest_float('subsample', 0.6, 1.0),\n",
    "        'colsample_bytree': trial.suggest_float('colsample_bytree', 0.6, 1.0),\n",
    "        'n_estimators': trial.suggest_int('n_estimators', 50, 400)\n",
    "    }\n",
    "\n",
    "    model = XGBClassifier(**params)\n",
    "    score = cross_val_score(model, X_train, y_train, scoring='accuracy', cv=3, n_jobs=-1)\n",
    "    accuracy = score.mean()\n",
    "    \n",
    "    return accuracy\n",
    "\n",
    "study = optuna.create_study(direction='maximize')\n",
    "study.optimize(objective, timeout=3600)\n",
    "\n",
    "print(f\"Mejores parámetros: {study.best_params}\")\n",
    "print(f\"Mejor score: {study.best_value}\")\n"
   ]
  }
 ],
 "metadata": {
  "kernelspec": {
   "display_name": "ia",
   "language": "python",
   "name": "python3"
  },
  "language_info": {
   "codemirror_mode": {
    "name": "ipython",
    "version": 3
   },
   "file_extension": ".py",
   "mimetype": "text/x-python",
   "name": "python",
   "nbconvert_exporter": "python",
   "pygments_lexer": "ipython3",
   "version": "3.12.2"
  }
 },
 "nbformat": 4,
 "nbformat_minor": 2
}
